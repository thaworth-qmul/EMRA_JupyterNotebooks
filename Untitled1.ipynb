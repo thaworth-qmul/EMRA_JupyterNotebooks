{
 "cells": [
  {
   "cell_type": "code",
   "execution_count": 2,
   "metadata": {},
   "outputs": [
    {
     "data": {
      "application/vnd.jupyter.widget-view+json": {
       "model_id": "8e0b061cba254376aa7d8de9037a4a8d",
       "version_major": 2,
       "version_minor": 0
      },
      "text/plain": [
       "Canvas(toolbar=Toolbar(toolitems=[('Home', 'Reset original view', 'home', 'home'), ('Back', 'Back to previous …"
      ]
     },
     "metadata": {},
     "output_type": "display_data"
    }
   ],
   "source": [
    "%matplotlib widget\n",
    "\n",
    "import numpy as np\n",
    "import matplotlib.pyplot as plt\n",
    "import matplotlib.cm as cm      \n",
    "from matplotlib.widgets import Slider\n",
    "\n",
    "vals = np.linspace(-np.pi,np.pi,100)\n",
    "xgrid, ygrid = np.meshgrid(vals,vals)       \n",
    "\n",
    "def f(x, y, b):\n",
    "    return np.sin(x * b)\n",
    "b = 5\n",
    "\n",
    "ax = plt.subplot(111)\n",
    "plt.subplots_adjust(left=0.15, bottom=0.25)\n",
    "fig = plt.imshow(f(xgrid, ygrid, b), cm.gray)\n",
    "plt.axis('off')\n",
    "fig.axes.get_xaxis().set_visible(False)\n",
    "fig.axes.get_yaxis().set_visible(False)\n",
    "\n",
    "axb = plt.axes([0.15, 0.1, 0.65, 0.03])\n",
    "sb = Slider(axb, 'b', 0.1, 10.0, valinit=b)\n",
    "def update(val):\n",
    "    fig.set_data(f(xgrid, ygrid, val))\n",
    "sb.on_changed(update)\n",
    "\n",
    "plt.show()"
   ]
  },
  {
   "cell_type": "code",
   "execution_count": null,
   "metadata": {},
   "outputs": [],
   "source": []
  }
 ],
 "metadata": {
  "kernelspec": {
   "display_name": "Python 3",
   "language": "python",
   "name": "python3"
  },
  "language_info": {
   "codemirror_mode": {
    "name": "ipython",
    "version": 3
   },
   "file_extension": ".py",
   "mimetype": "text/x-python",
   "name": "python",
   "nbconvert_exporter": "python",
   "pygments_lexer": "ipython3",
   "version": "3.8.3"
  }
 },
 "nbformat": 4,
 "nbformat_minor": 4
}
