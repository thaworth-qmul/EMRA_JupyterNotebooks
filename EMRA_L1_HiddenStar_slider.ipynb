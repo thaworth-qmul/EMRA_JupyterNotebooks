{
 "cells": [
  {
   "cell_type": "code",
   "execution_count": 10,
   "metadata": {},
   "outputs": [
    {
     "name": "stdout",
     "output_type": "stream",
     "text": [
      "Using matplotlib backend: module://ipympl.backend_nbagg\n",
      "Warning: Cannot change to a different GUI toolkit: gtk. Using widget instead.\n"
     ]
    }
   ],
   "source": [
    "%matplotlib\n",
    "%matplotlib gtk\n",
    "#\n",
    "# EMRA 2020/2021 Lecture 1 complementary notebook\n",
    "#\n",
    "#                   HIDING A STAR\n",
    "#"
   ]
  },
  {
   "cell_type": "code",
   "execution_count": 8,
   "metadata": {},
   "outputs": [],
   "source": [
    "# In this notebook you will be able to change the wavelength of observation of a star behind a cloud. \n",
    "# These notebooks should also be useful for showing you how to make nice plots for your project reports"
   ]
  },
  {
   "cell_type": "code",
   "execution_count": 9,
   "metadata": {},
   "outputs": [
    {
     "name": "stdout",
     "output_type": "stream",
     "text": [
      "Optical depth is τ =  1.0115403760000001\n"
     ]
    },
    {
     "data": {
      "application/vnd.jupyter.widget-view+json": {
       "model_id": "2f073f5d4fa649ad9c65f19ae00c12c5",
       "version_major": 2,
       "version_minor": 0
      },
      "text/plain": [
       "Canvas(toolbar=Toolbar(toolitems=[('Home', 'Reset original view', 'home', 'home'), ('Back', 'Back to previous …"
      ]
     },
     "metadata": {},
     "output_type": "display_data"
    }
   ],
   "source": [
    "\n",
    "\n",
    "#                                                                                                                                               \n",
    "# Libraries -- don't worry about this, it just gives us ready made tools for things like plotting                                               \n",
    "#                                                                                                                                               \n",
    "\n",
    "import numpy as np                         # a bunch of useful stuff                                                                            \n",
    "import matplotlib.pyplot as plt            # plotting                                                                                           \n",
    "from scipy.interpolate import interp1d     # for interpolation                                                                                  \n",
    "from matplotlib.widgets import Slider\n",
    "\n",
    "#                                                                                                                                               \n",
    "# Here you can specify your input values                                                                                                        \n",
    "#                                                                                                                                               \n",
    "\n",
    "#Wavelength of observation (in microns)                                                                                                         \n",
    "\n",
    "lambdaObs = 1.0\n",
    "\n",
    "#thickness of cloud (in parseces)                                                                                                               \n",
    "\n",
    "CloudThickness = 10.0\n",
    "\n",
    "#Density of cloud (hydrogen atoms per cubic metre)                                                                                              \n",
    "CloudDensity = 1.e10\n",
    "\n",
    "\n",
    "#                                                                                                                                               \n",
    "#                                                                                                                                               \n",
    "\n",
    "opacityFile=\"./albedo.dat\"\n",
    "\n",
    "#load the data from the file. I'm skipping the first two rows of the file as they are just text, not data                                       \n",
    "opacityData=np.loadtxt(opacityFile, skiprows=2)\n",
    "\n",
    "#The units are in cm^2/g, so convert to the SI units that we use in this course                                                                 \n",
    "opacityData[:,2] = opacityData[:,2]*1.e3/1.e4 #1.e3 converts /g to /kg and 1./1.e4 converts cm^2 to m^2                                         \n",
    "\n",
    "#Interpolate over the opacity data to find out what the opacity is for the wavelength of observation specified                                  \n",
    "f = interp1d(opacityData[:,0], opacityData[:,2])\n",
    "kappa=f(lambdaObs)\n",
    "\n",
    "mHydrogen = 1.67e-27       # mass of a single hydrogen atom                                                                                     \n",
    "parsecInMetres = 3.08e16   # 1 parsec, in metres                                                                                                \n",
    "\n",
    "#work out the optical depth                                                                                                                     \n",
    "tau = kappa * CloudDensity * mHydrogen * CloudThickness * parsecInMetres\n",
    "\n",
    "print(\"Optical depth is \\u03C4 = \", tau)\n",
    "\n",
    "#And adjust the transparency of the star based on how optically thick/thin the cloud is                                                         \n",
    "StarAlpha = 1.0*np.exp(-tau)\n",
    "\n",
    "#load a simple cloud image                                                                                                                      \n",
    "Cloudfile=\"./Cloud.png\"\n",
    "cloud = plt.imread(Cloudfile)\n",
    "\n",
    "\n",
    "fig, (ax1, ax2) = plt.subplots(1, 2, figsize=(16,4))\n",
    "plt.subplots_adjust(left=0.25, bottom=0.35)\n",
    "axcolor = 'lightgoldenrodyellow'\n",
    "axlam = plt.axes([0.25, 0.1, 0.65, 0.03], facecolor=axcolor)\n",
    "axrho = plt.axes([0.25, 0.15, 0.65, 0.03], facecolor=axcolor)\n",
    "axsize = plt.axes([0.25, 0.05, 0.65, 0.03], facecolor=axcolor)\n",
    "lam0 = np.log10(1.0)\n",
    "\n",
    "lamMin = np.log10(0.01)\n",
    "lamMax = np.log10(1000.)\n",
    "rhoMin = 5.0\n",
    "rhoMax= 14.0\n",
    "rho0=10.0\n",
    "delta_rho=0.1\n",
    "delta_lam=0.01\n",
    "\n",
    "cloudMin=1.0\n",
    "cloudMax=20.0\n",
    "delta_cloud=0.5\n",
    "cloud0=10.0\n",
    "\n",
    "slam = Slider(axlam, 'log$_{10}$(Wavelength), $\\mu$m', lamMin, lamMax, valinit=lam0, valstep=delta_lam)\n",
    "srho = Slider(axrho, 'log$_{10}$(Density), kgm$^{-3}$', rhoMin, rhoMax, valinit=rho0, valstep=delta_rho)\n",
    "ssize = Slider(axsize, 'Cloud Thickness, pc', cloudMin, cloudMax, valinit=cloud0, valstep=delta_cloud)\n",
    "\n",
    "lamString=\"{:.2f}\".format(lambdaObs)\n",
    "TitleString= \"wavelength=\"+lamString+\"microns\"\n",
    "lamlabel=plt.text(15., 8., TitleString)\n",
    "ax1.loglog(opacityData[:,0], opacityData[:,2])           #plot the opacity data                                                                 \n",
    "op=ax1.scatter(lambdaObs, kappa, color=\"black\", s=100)    #plot the point we have chosen                                                        \n",
    "ax1.set_ylabel(\"Opacity $\\kappa$, m$^2$kg$^{-1}$\", fontsize=16)\n",
    "ax1.set_xlabel(\"Wavelength, microns\", fontsize=16)\n",
    "ax2.set_xlim(1,986)\n",
    "ax2.set_ylim(708,1)\n",
    "ax2.set_xticks([])\n",
    "ax2.set_yticks([])\n",
    "\n",
    "star=ax2.scatter(450,400, marker='*', color=\"yellow\", s=300, alpha=StarAlpha)\n",
    "ax2.imshow(cloud)\n",
    "\n",
    "def update(val):\n",
    "    lambdaObs = 10.**(slam.val)\n",
    "    newCloudDensity=10.**(srho.val)\n",
    "    newCloudThickness=ssize.val\n",
    "    kappa = f(lambdaObs)\n",
    "    xx = np.vstack ((lambdaObs, kappa))\n",
    "    op.set_offsets (xx.T)\n",
    "    lamString=\"{:.9f}\".format(lambdaObs)\n",
    "    TitleString= \"wavelength=\"+lamString+\"microns\"\n",
    "#    plt.title(TitleString)                                                                                                                     \n",
    "    lamlabel.set_text(TitleString)\n",
    "    tau = kappa * newCloudDensity * mHydrogen * newCloudThickness * parsecInMetres\n",
    "    StarAlpha = 1.0*np.exp(-tau)\n",
    "    star.set_alpha(StarAlpha)\n",
    "#    draw()                                                                                                                                     \n",
    "    #    op.set_xdata(lambdaObs)                                                                                                                \n",
    "#    op.set_ydata(f(lambdaObs))                                                                                                                 \n",
    "\n",
    "#    fig.canvas.draw_idle()                                                                                                                     \n",
    "\n",
    "slam.on_changed(update)\n",
    "ssize.on_changed(update)\n",
    "srho.on_changed(update)\n",
    "\n",
    "plt.show()\n",
    "\n",
    "\n",
    "\n"
   ]
  },
  {
   "cell_type": "code",
   "execution_count": null,
   "metadata": {},
   "outputs": [],
   "source": []
  }
 ],
 "metadata": {
  "kernelspec": {
   "display_name": "Python 3",
   "language": "python",
   "name": "python3"
  },
  "language_info": {
   "codemirror_mode": {
    "name": "ipython",
    "version": 3
   },
   "file_extension": ".py",
   "mimetype": "text/x-python",
   "name": "python",
   "nbconvert_exporter": "python",
   "pygments_lexer": "ipython3",
   "version": "3.8.3"
  }
 },
 "nbformat": 4,
 "nbformat_minor": 4
}
