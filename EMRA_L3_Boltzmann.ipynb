{
 "cells": [
  {
   "cell_type": "code",
   "execution_count": 3,
   "metadata": {},
   "outputs": [
    {
     "data": {
      "image/png": "[encoded data removed]",
      "text/plain": [
       "<Figure size 576x432 with 2 Axes>"
      ]
     },
     "metadata": {
      "needs_background": "light"
     },
     "output_type": "display_data"
    }
   ],
   "source": [
    "#                                                                                                           \n",
    "# EMRA L3 NOTEBOOK 1. Showing how the boltzmann distribution changes as a function of temperature           \n",
    "# Plot occupancy with a temperature slider.                                                                 \n",
    "#                                                                                                           \n",
    "# Perhaps do it for a few different species                                                                 \n",
    "#                                                                                                           \n",
    "# could do a cartoon ladder of energy levels or something                                                   \n",
    "#                                                                                                           \n",
    "# Started by T. J. Haworth in October 2020                                                                  \n",
    "#                                                                                                           \n",
    "# data from LAMDA database                                                                                  \n",
    "#                                                                                                           \n",
    "\n",
    "\n",
    "import numpy as np\n",
    "import matplotlib.pyplot as plt\n",
    "from matplotlib.widgets import Slider\n",
    "\n",
    "kB = 1.38e-23\n",
    "levelsCO=np.arange(1,42,1)\n",
    "\n",
    "#                                                                                                           \n",
    "#energies are in cm^{-1} units in LAMDA database                                                            \n",
    "#                                                                                                           \n",
    "\n",
    "#energiesCO[:]=energiesCO[:]#*1.98630e-23                                                                   \n",
    "#*1.98630e-23                                                                                               \n",
    "\n",
    "energiesCO=[0.0, 3.845, 11.5350, 23.0695, 38.4481, 57.6704, 80.7354, 107.6424, 138.3904, 172.9780, 211.4041,253.6672, 299.7656, 349.6975, 403.4612, 461.0545, 522.4751, 587.7209, 656.7892, 729.6774, 806.3828, 886.9024,971.2332, 1059.3718, 1151.3150, 1247.0592, 1346.6008, 1449.9360, 1557.0607, 1667.9709, 1782.6624, 1901.1308,2023.3715, 2149.3799, 2279.1511, 2412.6801, 2549.9620, 2690.9913, 2835.7627, 2984.2707, 3136.5095]\n",
    "gCO=[1.0, 3.0, 5.0, 7.0, 9.0, 11.0, 13.0,15.0,17.0,19.0,21.0, 23.0, 25.0, 27.0, 29.0, 31.0, 33.0, 35.0, 37.0,39.0, 41.0, 43.0, 45.0, 47.0, 49.0, 51.0, 53.0, 55.0, 57.0, 59.0, 61.0, 63.0, 65.0, 67.0, 69.0, 71.0, 73.0,75.0, 77.0, 79.0, 81.0]\n",
    "     \n",
    "##Works out the partition function                                                                          \n",
    "def calcPartitionFunction(energies, degeneracies, temperature):\n",
    "    PartitionFunction = 0.0\n",
    "    for i in range(0,len(energies)-1):\n",
    "        PartitionFunction=PartitionFunction + (degeneracies[i]*np.exp(-energies[i]*1.98630e-23/kB/temperature))\n",
    "    return PartitionFunction\n",
    "\n",
    "def calcPops(energies, degeneracies, temperature, partitionFunction):\n",
    "    Pop=np.zeros(len(energies))\n",
    "    for i in range(0,len(energies)-1):\n",
    "        Pop[i]=(1.0/partitionFunction)*degeneracies[i]*np.exp(-energies[i]*1.98630e-23/kB/temperature)\n",
    "    return Pop\n",
    "temperature = 10.0\n",
    "\n",
    "COpart = calcPartitionFunction(energiesCO, gCO, temperature)\n",
    "COpops = calcPops(energiesCO, gCO, temperature, COpart)\n",
    "\n",
    "\n",
    "fig, ax1 = plt.subplots(figsize=(8,6))\n",
    "plt.subplots_adjust(left=0.25, bottom=0.35)\n",
    "\n",
    "axcolor = 'lightgoldenrodyellow'\n",
    "axtemp = plt.axes([0.25, 0.1, 0.65, 0.03], facecolor=axcolor)\n",
    "delta_temp=5.0\n",
    "tempMin=10.0\n",
    "tempMax=1000.0\n",
    "temp0=10.0\n",
    "sTemp=Slider(axtemp, 'Temperature, K', tempMin, tempMax, valinit=temp0, valstep=delta_temp)\n",
    "\n",
    "ax1.set_xlabel(\"CO rotational energy level\", fontsize=16)\n",
    "ax1.set_ylabel(r\"$n_i/N$\", fontsize=16)\n",
    "COlevPlot, =ax1.plot(levelsCO, COpops)\n",
    "ax1.set_xlim(0,30)\n",
    "\n",
    "def update(val):\n",
    "    COpart = calcPartitionFunction(energiesCO, gCO, sTemp.val)\n",
    "    COpops = calcPops(energiesCO, gCO, sTemp.val, COpart)\n",
    "    COlevPlot.set_ydata(COpops)\n",
    "\n",
    "sTemp.on_changed(update)\n",
    "\n",
    "plt.show()\n"
   ]
  },
  {
   "cell_type": "code",
   "execution_count": null,
   "metadata": {},
   "outputs": [],
   "source": []
  }
 ],
 "metadata": {
  "kernelspec": {
   "display_name": "Python 3",
   "language": "python",
   "name": "python3"
  },
  "language_info": {
   "codemirror_mode": {
    "name": "ipython",
    "version": 3
   },
   "file_extension": ".py",
   "mimetype": "text/x-python",
   "name": "python",
   "nbconvert_exporter": "python",
   "pygments_lexer": "ipython3",
   "version": "3.8.3"
  }
 },
 "nbformat": 4,
 "nbformat_minor": 4
}
